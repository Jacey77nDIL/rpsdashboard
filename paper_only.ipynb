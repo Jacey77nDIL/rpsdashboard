{
 "cells": [
  {
   "cell_type": "code",
   "execution_count": 2,
   "id": "ffdf4432-bd46-4857-94cf-109908e1e65f",
   "metadata": {},
   "outputs": [],
   "source": [
    "import pandas as pd\n",
    "df = pd.read_csv(\"dataset_2.1_paper_only.csv\")\n",
    "bot_paper_win_count = df.apply(lambda row: row[\"Bot Pick\"] == \"PAPER\" and row[\"Bot Result\"] == \"Win\", axis=1).sum()\n",
    "bot_rock_win_count = df.apply(lambda row: row[\"Bot Pick\"] == \"ROCK\" and row[\"Bot Result\"] == \"Win\", axis=1).sum()\n",
    "bot_scissors_win_count = df.apply(lambda row: row[\"Bot Pick\"] == \"SCISSORS\" and row[\"Bot Result\"] == \"Win\", axis=1).sum()"
   ]
  },
  {
   "cell_type": "code",
   "execution_count": 4,
   "id": "0e317d33-e7a0-4868-a00b-ad6b74aff39a",
   "metadata": {},
   "outputs": [
    {
     "data": {
      "text/plain": [
       "116"
      ]
     },
     "execution_count": 4,
     "metadata": {},
     "output_type": "execute_result"
    }
   ],
   "source": [
    "bot_paper_win_count"
   ]
  },
  {
   "cell_type": "code",
   "execution_count": 6,
   "id": "80d1eadb-4320-4384-b3eb-a9863f44c8b5",
   "metadata": {},
   "outputs": [
    {
     "data": {
      "text/plain": [
       "104"
      ]
     },
     "execution_count": 6,
     "metadata": {},
     "output_type": "execute_result"
    }
   ],
   "source": [
    "bot_rock_win_count"
   ]
  },
  {
   "cell_type": "code",
   "execution_count": 8,
   "id": "87e70f52-cec2-421c-b6cd-4be9b5c7841c",
   "metadata": {},
   "outputs": [
    {
     "data": {
      "text/plain": [
       "119"
      ]
     },
     "execution_count": 8,
     "metadata": {},
     "output_type": "execute_result"
    }
   ],
   "source": [
    "bot_scissors_win_count"
   ]
  },
  {
   "cell_type": "code",
   "execution_count": null,
   "id": "4393806e-e894-4a54-a1a6-d7fc78be7286",
   "metadata": {},
   "outputs": [],
   "source": []
  }
 ],
 "metadata": {
  "kernelspec": {
   "display_name": "Python 3 (ipykernel)",
   "language": "python",
   "name": "python3"
  },
  "language_info": {
   "codemirror_mode": {
    "name": "ipython",
    "version": 3
   },
   "file_extension": ".py",
   "mimetype": "text/x-python",
   "name": "python",
   "nbconvert_exporter": "python",
   "pygments_lexer": "ipython3",
   "version": "3.12.7"
  }
 },
 "nbformat": 4,
 "nbformat_minor": 5
}
